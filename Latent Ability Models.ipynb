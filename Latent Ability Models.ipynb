{
 "cells": [
  {
   "cell_type": "code",
   "execution_count": 56,
   "metadata": {
    "collapsed": false
   },
   "outputs": [
    {
     "name": "stdout",
     "output_type": "stream",
     "text": [
      "[[ 0.  1.  0.]\n",
      " [ 0.  0.  1.]\n",
      " [ 1.  0.  0.]]\n"
     ]
    }
   ],
   "source": [
    "import numpy as np\n",
    "\n",
    "def sigmoid(t):\n",
    "    return np.exp(t)/(1+np.exp(t))\n",
    "\n",
    "\n",
    "\n",
    "x_true = np.array([19, 23, 15])\n",
    "N = len(x_true)\n",
    "beta = 0.05\n",
    "\n",
    "R = np.zeros((N,N))\n",
    "\n",
    "for i in range(N):\n",
    "    for j in range(N):\n",
    "        if i > j:\n",
    "            delta = x_true[i] - x_true[j]\n",
    "            p = sigmoid(beta*delta)\n",
    "            r = np.random.choice([0,1],p=[1-p, p])\n",
    "            R[i,j] = r\n",
    "            R[j, i] = 1-r\n",
    "                        \n",
    "print(R)\n",
    "\n",
    "\n",
    "\n",
    "\n"
   ]
  },
  {
   "cell_type": "markdown",
   "metadata": {},
   "source": [
    "Plot the histograms x_samp for each player apart from player 0"
   ]
  },
  {
   "cell_type": "code",
   "execution_count": 57,
   "metadata": {
    "collapsed": false
   },
   "outputs": [],
   "source": [
    "EPOCH = 1000\n",
    "x = np.array([19, 89, 27])\n",
    "\n",
    "samp_1 = []\n",
    "samp_2 = []\n",
    "\n",
    "for epoch in range(EPOCH):\n",
    "    for j in range(1,N):\n",
    "        x1 = np.arange(0, 100)\n",
    "        LL = np.zeros((len(x1)))\n",
    "\n",
    "        for i in range(N):\n",
    "            if i != j:\n",
    "                delta = x1 - x[i]\n",
    "                lp = np.log(sigmoid(delta*beta))\n",
    "                lp0 = np.log(1-sigmoid(delta*beta))\n",
    "                LL += R[j,i]*lp + R[i,j]*lp0\n",
    "\n",
    "        pp = np.exp(LL - np.max(LL))\n",
    "        pp = pp/np.sum(pp)\n",
    "        x_samp = np.random.choice(range(0,100),p=pp)\n",
    "        x[j] = x_samp\n",
    "\n",
    "        if j==1:\n",
    "            samp_1.append(x_samp)\n",
    "        \n",
    "        if j==2:\n",
    "            samp_2.append(x_samp)\n",
    "        "
   ]
  },
  {
   "cell_type": "code",
   "execution_count": 58,
   "metadata": {
    "collapsed": false
   },
   "outputs": [
    {
     "data": {
      "image/png": "[encoded data removed]",
      "text/plain": [
       "<matplotlib.figure.Figure at 0x10fd29a58>"
      ]
     },
     "metadata": {},
     "output_type": "display_data"
    }
   ],
   "source": [
    "%matplotlib inline\n",
    "import matplotlib.pylab as plt\n",
    "\n",
    "plt.plot(np.exp(LL))\n",
    "plt.show()"
   ]
  },
  {
   "cell_type": "code",
   "execution_count": 59,
   "metadata": {
    "collapsed": false,
    "scrolled": true
   },
   "outputs": [
    {
     "data": {
      "image/png": "[encoded data removed]",
      "text/plain": [
       "<matplotlib.figure.Figure at 0x10fe1cdd8>"
      ]
     },
     "metadata": {},
     "output_type": "display_data"
    }
   ],
   "source": [
    "plt.hist(samp_1, 100, normed=1, facecolor='green', alpha=0.75)\n",
    "\n",
    "plt.show()\n"
   ]
  },
  {
   "cell_type": "code",
   "execution_count": 60,
   "metadata": {
    "collapsed": false
   },
   "outputs": [
    {
     "data": {
      "image/png": "[encoded data removed]",
      "text/plain": [
       "<matplotlib.figure.Figure at 0x10fd42518>"
      ]
     },
     "metadata": {},
     "output_type": "display_data"
    }
   ],
   "source": [
    "plt.hist(samp_2, 100, normed=1, facecolor='green', alpha=0.75)\n",
    "\n",
    "plt.show()"
   ]
  },
  {
   "cell_type": "code",
   "execution_count": null,
   "metadata": {
    "collapsed": true
   },
   "outputs": [],
   "source": []
  }
 ],
 "metadata": {
  "kernelspec": {
   "display_name": "Python 3",
   "language": "python",
   "name": "python3"
  },
  "language_info": {
   "codemirror_mode": {
    "name": "ipython",
    "version": 3
   },
   "file_extension": ".py",
   "mimetype": "text/x-python",
   "name": "python",
   "nbconvert_exporter": "python",
   "pygments_lexer": "ipython3",
   "version": "3.5.0"
  }
 },
 "nbformat": 4,
 "nbformat_minor": 0
}
