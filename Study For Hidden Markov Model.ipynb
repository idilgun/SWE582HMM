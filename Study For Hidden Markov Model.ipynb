{
 "cells": [
  {
   "cell_type": "code",
   "execution_count": 1,
   "metadata": {
    "collapsed": true
   },
   "outputs": [],
   "source": [
    "%matplotlib inline\n",
    "import networkx as nx\n",
    "#import pygraphviz\n",
    "import pyparsing\n",
    "import numpy as np\n",
    "import matplotlib.pylab as plt\n",
    "\n",
    "from IPython.display import Math"
   ]
  },
  {
   "cell_type": "code",
   "execution_count": 124,
   "metadata": {
    "collapsed": true
   },
   "outputs": [],
   "source": [
    "# An implementation of the forward backward algorithm\n",
    "# For numerical stability, we calculate everything in the log domain\n",
    "\n",
    "def normalize_exp(log_P, axis=None):\n",
    "    a = np.max(log_P, keepdims=True, axis=axis)\n",
    "    P = normalize(np.exp(log_P - a), axis=axis)\n",
    "    return P\n",
    "\n",
    "\n",
    "def normalize(A, axis=None):\n",
    "    Z = np.sum(A, axis=axis,keepdims=True)\n",
    "    idx = np.where(Z == 0)\n",
    "    Z[idx] = 1\n",
    "    return A/Z\n",
    "\n",
    "def randgen(pr, N=1): \n",
    "    L = len(pr)\n",
    "    return np.random.choice(range(L), size=N, replace=True, p=pr)\n",
    "\n",
    "def predict(A, lp):\n",
    "    lstar = np.max(lp)\n",
    "    return lstar + np.log(np.dot(A,np.exp(lp-lstar)))\n",
    "\n",
    "def postdict(A, lp):\n",
    "    lstar = np.max(lp)\n",
    "    return lstar + np.log(np.dot(np.exp(lp-lstar), A))\n",
    "\n",
    "def update(y, logB, lp):\n",
    "    return logB[y,:] + lp\n",
    "\n",
    "# Generate Parameter\n",
    "S = 7\n",
    "R = 2\n",
    "A = np.random.dirichlet(0.7*np.ones(S),S).T\n",
    "B = np.random.dirichlet(0.7*np.ones(R),S).T\n",
    "p = np.random.dirichlet(0.7*np.ones(S)).T\n",
    "\n",
    "logA = np.log(A)\n",
    "logB = np.log(B)"
   ]
  },
  {
   "cell_type": "code",
   "execution_count": 125,
   "metadata": {
    "collapsed": false
   },
   "outputs": [
    {
     "name": "stdout",
     "output_type": "stream",
     "text": [
      "[[ 0.20803966  0.00171297  0.01767966  0.01396564  0.84065231  0.00739805\n",
      "   0.33978663]\n",
      " [ 0.00118965  0.02536291  0.09106425  0.28817514  0.04536952  0.00416653\n",
      "   0.0088411 ]\n",
      " [ 0.01385449  0.5317387   0.07727573  0.0202794   0.02676278  0.31324128\n",
      "   0.00277233]\n",
      " [ 0.22694357  0.04969807  0.04754057  0.30724844  0.00596977  0.03113069\n",
      "   0.15629859]\n",
      " [ 0.20928937  0.04528827  0.32613882  0.21840687  0.00100378  0.20360211\n",
      "   0.40526958]\n",
      " [ 0.1234479   0.10220031  0.18216326  0.07806302  0.03176438  0.31738165\n",
      "   0.00877875]\n",
      " [ 0.21723537  0.24399877  0.25813771  0.07386148  0.04847747  0.12307967\n",
      "   0.07825302]]\n"
     ]
    }
   ],
   "source": [
    "print (A)"
   ]
  },
  {
   "cell_type": "code",
   "execution_count": 126,
   "metadata": {
    "collapsed": false
   },
   "outputs": [
    {
     "name": "stdout",
     "output_type": "stream",
     "text": [
      "[[ 0.00671209  0.75378593  0.91671497  0.79477842  0.14397868  0.54348066\n",
      "   0.98683853]\n",
      " [ 0.99328791  0.24621407  0.08328503  0.20522158  0.85602132  0.45651934\n",
      "   0.01316147]]\n"
     ]
    }
   ],
   "source": [
    "print (B)"
   ]
  },
  {
   "cell_type": "code",
   "execution_count": 127,
   "metadata": {
    "collapsed": false
   },
   "outputs": [
    {
     "name": "stdout",
     "output_type": "stream",
     "text": [
      "[ 0.07013134  0.51743902  0.02434814  0.27422699  0.04422496  0.04275994\n",
      "  0.02686961]\n"
     ]
    }
   ],
   "source": [
    "print (p)"
   ]
  },
  {
   "cell_type": "code",
   "execution_count": 128,
   "metadata": {
    "collapsed": true
   },
   "outputs": [],
   "source": [
    "# Generate Data\n",
    "\n",
    "# Number of steps\n",
    "T = 50\n",
    "\n",
    "x = np.zeros(T,int)\n",
    "y = np.zeros(T,int)\n",
    "for t in range(T):\n",
    "    if t==0:\n",
    "        x[t] = randgen(p)\n",
    "    else:\n",
    "        x[t] = randgen(A[:,x[t-1]])\n",
    "    \n",
    "    y[t] = randgen(B[:,x[t]])"
   ]
  },
  {
   "cell_type": "code",
   "execution_count": 129,
   "metadata": {
    "collapsed": false
   },
   "outputs": [
    {
     "name": "stdout",
     "output_type": "stream",
     "text": [
      "[1 2 5 4 6 0 0 6 4 0 5 2 4 6 0 3 5 6 0 4 0 3 1 2 4 0 3 6 4 0 0 4 5 5 5 2 6\n",
      " 0 3 3 6 4 2 5 2 1 6 3 6 3]\n"
     ]
    }
   ],
   "source": [
    "print (x)"
   ]
  },
  {
   "cell_type": "code",
   "execution_count": 130,
   "metadata": {
    "collapsed": false
   },
   "outputs": [
    {
     "name": "stdout",
     "output_type": "stream",
     "text": [
      "[1 0 1 0 0 1 1 0 1 1 1 0 0 0 1 0 1 1 1 1 1 0 0 0 1 1 0 0 1 1 1 1 1 1 0 0 0\n",
      " 1 0 0 0 1 0 1 1 0 0 0 0 0]\n"
     ]
    }
   ],
   "source": [
    "print (y)"
   ]
  },
  {
   "cell_type": "code",
   "execution_count": 131,
   "metadata": {
    "collapsed": false
   },
   "outputs": [
    {
     "name": "stdout",
     "output_type": "stream",
     "text": [
      "log alpha: \n",
      "[[ -2.66412019  -8.0483105   -3.6972191   -8.07702907 -10.28014336\n",
      "   -5.8939416   -5.6178889  -11.54712322  -7.74344188  -7.46485073\n",
      "   -8.42557687 -13.81890275 -15.41080965 -16.21832122 -11.88717069\n",
      "  -16.52093803 -13.56634773 -13.17331615 -14.15146779 -14.5378855\n",
      "  -15.19984794 -20.74080371 -22.22562237 -23.06236348 -18.74099466\n",
      "  -18.37020348 -24.32068235 -25.49672795 -21.42324667 -21.18052539\n",
      "  -22.0795598  -22.50465412 -23.15070442 -23.70173427 -29.29172626\n",
      "  -30.74069023 -31.58702344 -27.26882538 -31.89259148 -33.93782963\n",
      "  -34.58833395 -30.29474033 -34.96620724 -31.99867825 -31.6106212\n",
      "  -37.58509275 -38.74435476 -39.67362569 -40.37076781 -40.89576877]\n",
      " [ -2.0604175   -4.12148708  -5.48137497  -5.82530334  -6.18863893\n",
      "   -7.91710854  -9.44078588  -9.50667932  -9.72011678 -11.24610597\n",
      "  -12.49366542 -11.40927986 -11.24538552 -11.95072394 -13.81036172\n",
      "  -14.21883376 -15.5799255  -16.99850329 -18.26864258 -18.24230318\n",
      "  -19.04808679 -18.40329457 -18.06815701 -18.78348028 -20.64758223\n",
      "  -22.18122751 -22.30826809 -21.35887391 -23.21866225 -24.90717233\n",
      "  -26.12051351 -26.22841619 -26.98948609 -27.48430885 -26.98217627\n",
      "  -26.58538217 -27.30410679 -29.16976097 -29.58661213 -29.83544763\n",
      "  -30.46768438 -32.28468642 -32.67461002 -34.01108522 -35.43375769\n",
      "  -35.5841308  -34.60509959 -35.34806927 -36.11028041 -36.81219204]\n",
      " [ -6.20078646  -2.64914571  -6.35868613  -4.98554722  -5.6458599\n",
      "   -8.63725995  -9.87367246  -8.42130693 -11.08805244 -11.82039615\n",
      "  -12.70955981 -10.77080273 -11.06143059 -11.4243544  -14.47923214\n",
      "  -13.36749191 -16.40059609 -17.49945308 -18.42512812 -18.88749459\n",
      "  -19.47761815 -17.65230122 -17.95556889 -18.26196917 -21.31863492\n",
      "  -22.60782584 -21.1867236  -21.45798888 -23.99361377 -25.32231134\n",
      "  -26.32830053 -26.84185922 -27.43230179 -28.00704841 -26.19070819\n",
      "  -26.49751613 -26.7842888  -29.84153813 -28.73303199 -29.37189793\n",
      "  -29.91418808 -32.95999162 -31.82876117 -34.84884373 -35.93811434\n",
      "  -34.46354417 -34.718117   -34.84491553 -35.50614951 -36.1920897 ]\n",
      " [ -2.87746408  -3.43819457  -5.34630616  -5.04939552  -5.66546219\n",
      "   -7.74232676  -8.66766001  -7.24023649  -9.43278422 -10.50249052\n",
      "  -10.44205782  -9.92731419 -10.73662216 -11.59213201 -13.65339444\n",
      "  -13.28219677 -15.29516338 -16.31545727 -16.15671474 -17.00506272\n",
      "  -17.45900811 -16.7396303  -17.55586971 -18.42773964 -20.49544769\n",
      "  -21.48672365 -19.9968518  -20.83590626 -23.10905484 -24.16269508\n",
      "  -24.15071343 -24.94411263 -25.42236343 -26.04623306 -25.25329028\n",
      "  -26.07201633 -26.94937482 -29.01924999 -28.65945703 -29.31605996\n",
      "  -30.06601148 -32.11100254 -31.70383827 -33.72534663 -34.74817791\n",
      "  -33.23978604 -34.08200548 -35.00468522 -35.73702353 -36.38679048]\n",
      " [ -3.27392584  -5.222639    -3.025708    -6.60626125  -6.62622952\n",
      "   -5.61678903  -7.12995558  -8.94933265  -7.46155385  -9.03839105\n",
      "   -9.02244783 -11.60609259 -11.86766576 -12.7238606  -11.50750027\n",
      "  -14.86151986 -13.15099319 -14.78510862 -14.73421936 -15.54574407\n",
      "  -16.01768245 -18.42632515 -18.69404408 -19.58025603 -18.35266876\n",
      "  -19.9276693  -21.70607075 -22.0017667  -21.18682375 -22.6241553\n",
      "  -22.71842739 -23.48609106 -23.97972166 -24.59680857 -26.9434471\n",
      "  -27.21284562 -28.10901287 -26.87753406 -30.2364013  -30.30618818\n",
      "  -31.10125064 -29.95909003 -33.29212352 -31.58907803 -33.2206578\n",
      "  -34.95401428 -35.25202069 -36.22351145 -36.74033485 -37.34544414]\n",
      " [ -3.93627784  -3.99754166  -4.53222762  -5.30567911  -6.18286891\n",
      "   -7.06888198  -7.87868887  -7.98737557  -9.18443346  -9.81585899\n",
      "  -10.02852696 -10.55149992 -11.53328123 -12.18155478 -12.94955435\n",
      "  -13.63133935 -14.69259186 -15.51272322 -15.7387579  -16.4457694\n",
      "  -16.96356979 -17.39538791 -18.38612571 -19.03557709 -19.79203905\n",
      "  -20.65251664 -20.74657765 -21.77104258 -22.59021645 -23.38515212\n",
      "  -23.70591348 -24.39182817 -24.92280435 -25.52403508 -25.9206421\n",
      "  -26.91401655 -27.56354471 -28.31601389 -29.00358754 -29.88885144\n",
      "  -30.59166815 -31.41117012 -32.07164146 -33.13750493 -33.95046351\n",
      "  -34.00161264 -35.02716383 -35.66917121 -36.2147919  -36.85660876]\n",
      " [ -7.94722085  -2.91069209  -7.7903151   -4.53138865  -5.40699147\n",
      "  -10.38584856 -11.19042571  -7.00334155 -12.62747587 -13.07420872\n",
      "  -13.17477138  -9.68729363 -10.80986669 -11.34227577 -16.22896043\n",
      "  -12.81853556 -18.06480799 -18.83251575 -18.88620427 -19.72786163\n",
      "  -20.1805207  -16.49768905 -17.66861873 -18.19597805 -23.06935044\n",
      "  -23.9842212  -19.75903262 -21.07240654 -25.89138468 -26.69068843\n",
      "  -26.87242855 -27.66541444 -28.14368746 -28.76749605 -25.01124133\n",
      "  -26.19828157 -26.72374079 -31.59259315 -28.19300467 -29.11771268\n",
      "  -29.76300344 -34.70314514 -31.25054151 -36.5112645  -37.26766891\n",
      "  -33.00616382 -34.32879818 -34.82675269 -35.34229118 -35.99954132]]\n",
      "log alpha pred: \n",
      "[[ -2.65738548  -3.04446487  -3.69048439  -3.07318345  -5.27629773\n",
      "   -5.88720689  -5.61115419  -6.54327759  -7.73670717  -7.45811602\n",
      "   -8.41884216  -8.81505712 -10.40696402 -11.21447559 -11.88043597\n",
      "  -11.5170924  -13.55961302 -13.16658144 -14.14473308 -14.53115079\n",
      "  -15.19311323 -15.73695808 -17.22177675 -18.05851785 -18.73425995\n",
      "  -18.36346877 -19.31683672 -20.49288233 -21.41651196 -21.17379068\n",
      "  -22.07282508 -22.49791941 -23.1439697  -23.69499956 -24.28788063\n",
      "  -25.73684461 -26.58317781 -27.26209067 -26.88874586 -28.933984\n",
      "  -29.58448832 -30.28800561 -29.96236161 -31.99194354 -31.60388649\n",
      "  -32.58124712 -33.74050914 -34.66978006 -35.36692218 -35.89192314]\n",
      " [ -0.65886359  -3.83884021  -4.07982106  -5.54265647  -5.90599206\n",
      "   -6.51555464  -8.03923198  -9.22403245  -8.31856287  -9.84455206\n",
      "  -11.09211151 -11.12663299 -10.96273865 -11.66807707 -12.40880781\n",
      "  -13.93618689 -14.1783716  -15.59694938 -16.86708867 -16.84074928\n",
      "  -17.64653289 -18.1206477  -17.78551014 -18.50083341 -19.24602832\n",
      "  -20.7796736  -22.02562122 -21.07622704 -21.81710835 -23.50561842\n",
      "  -24.7189596  -24.82686229 -25.58793218 -26.08275494 -26.6995294\n",
      "  -26.3027353  -27.02145992 -27.76820706 -29.30396526 -29.55280076\n",
      "  -30.18503751 -30.88313252 -32.39196315 -32.60953132 -34.03220379\n",
      "  -35.30148393 -34.32245272 -35.06542241 -35.82763354 -36.52954517]\n",
      " [ -3.71529994  -2.56218703  -3.87319962  -4.89858854  -5.55890122\n",
      "   -6.15177344  -7.38818595  -8.33434826  -8.60256593  -9.33490964\n",
      "  -10.2240733  -10.68384405 -10.97447191 -11.33739572 -11.99374563\n",
      "  -13.28053323 -13.91510958 -15.01396656 -15.93964161 -16.40200808\n",
      "  -16.99213163 -17.56534254 -17.86861021 -18.17501049 -18.83314841\n",
      "  -20.12233933 -21.09976492 -21.3710302  -21.50812726 -22.83682482\n",
      "  -23.84281402 -24.3563727  -24.94681528 -25.5215619  -26.10374952\n",
      "  -26.41055746 -26.69733012 -27.35605162 -28.64607332 -29.28493925\n",
      "  -29.8272294  -30.47450511 -31.7418025  -32.36335722 -33.45262783\n",
      "  -34.37658549 -34.63115832 -34.75795685 -35.41919083 -36.10513102]\n",
      " [ -1.29379909  -3.20850265  -3.76264117  -4.8197036   -5.43577027\n",
      "   -6.15866177  -7.08399502  -7.01054456  -7.84911923  -8.91882553\n",
      "   -8.85839283  -9.69762226 -10.50693024 -11.36244009 -12.06972945\n",
      "  -13.05250485 -13.71149839 -14.73179228 -14.57304975 -15.42139773\n",
      "  -15.87534312 -16.50993838 -17.32617778 -18.19804772 -18.9117827\n",
      "  -19.90305866 -19.76715988 -20.60621434 -21.52538985 -22.57903009\n",
      "  -22.56704844 -23.36044764 -23.83869844 -24.46256807 -25.02359836\n",
      "  -25.84232441 -26.71968289 -27.435585   -28.42976511 -29.08636804\n",
      "  -29.83631955 -30.52733755 -31.47414635 -32.14168164 -33.16451292\n",
      "  -33.01009411 -33.85231355 -34.77499329 -35.5073316  -36.15709856]\n",
      " [ -3.11846584  -3.28454896  -2.87024801  -4.6681712   -4.68813948\n",
      "   -5.46132903  -6.97449558  -7.0112426   -7.30609385  -8.88293106\n",
      "   -8.86698783  -9.66800254  -9.92957572 -10.78577056 -11.35204027\n",
      "  -12.92342982 -12.9955332  -14.62964863 -14.57875936 -15.39028407\n",
      "  -15.86222245 -16.4882351  -16.75595404 -17.64216599 -18.19720876\n",
      "  -19.7722093  -19.7679807  -20.06367665 -21.03136375 -22.4686953\n",
      "  -22.5629674  -23.33063107 -23.82426166 -24.44134857 -25.00535706\n",
      "  -25.27475558 -26.17092282 -26.72207406 -28.29831126 -28.36809814\n",
      "  -29.1631606  -29.80363003 -31.35403347 -31.43361804 -33.0651978\n",
      "  -33.01592423 -33.31393065 -34.28542141 -34.8022448  -35.40735409]\n",
      " [ -3.15215363  -3.3877805   -3.74810341  -4.69591795  -5.57310775\n",
      "   -6.28475777  -7.09456466  -7.37761441  -8.40030925  -9.03173479\n",
      "   -9.24440275  -9.94173876 -10.92352007 -11.57179362 -12.16543015\n",
      "  -13.02157819 -13.90846765 -14.72859901 -14.95463369 -15.6616452\n",
      "  -16.17944559 -16.78562675 -17.77636455 -18.42581593 -19.00791484\n",
      "  -19.86839244 -20.13681649 -21.16128142 -21.80609224 -22.60102792\n",
      "  -22.92178927 -23.60770396 -24.13868014 -24.73991087 -25.31088094\n",
      "  -26.30425539 -26.95378355 -27.53188968 -28.39382638 -29.27909028\n",
      "  -29.98190699 -30.62704591 -31.4618803  -32.35338072 -33.1663393\n",
      "  -33.39185148 -34.41740267 -35.05941005 -35.60503074 -36.2468476 ]\n",
      " [ -3.6167595   -2.89744323  -3.45985375  -4.5181398   -5.39374261\n",
      "   -6.05538722  -6.85996437  -6.99009269  -8.29701452  -8.74374738\n",
      "   -8.84431004  -9.67404478 -10.79661783 -11.32902691 -11.89849909\n",
      "  -12.8052867  -13.73434665 -14.5020544  -14.55574293 -15.39740029\n",
      "  -15.85005936 -16.48444019 -17.65536988 -18.18272919 -18.73888909\n",
      "  -19.65375985 -19.74578377 -21.05915768 -21.56092333 -22.36022708\n",
      "  -22.54196721 -23.33495309 -23.81322611 -24.4370347  -24.99799248\n",
      "  -26.18503272 -26.71049193 -27.26213181 -28.17975581 -29.10446383\n",
      "  -29.74975459 -30.37268379 -31.23729265 -32.18080316 -32.93720756\n",
      "  -32.99291497 -34.31554932 -34.81350384 -35.32904233 -35.98629247]]\n"
     ]
    }
   ],
   "source": [
    "log_alpha  = np.zeros((S, T))\n",
    "log_alpha_pred = np.zeros((S, T))\n",
    "\n",
    "for k in range(T):\n",
    "    if k==0:\n",
    "        log_alpha_pred[:,0] = np.log(p)\n",
    "    else:\n",
    "        log_alpha_pred[:,k] = predict(A, log_alpha[:,k-1])\n",
    "    \n",
    "    log_alpha[:,k] = update(y[k], logB, log_alpha_pred[:,k])\n",
    "    \n",
    "print (\"log alpha: \")\n",
    "print (log_alpha)\n",
    "print (\"log alpha pred: \")\n",
    "print (log_alpha_pred)\n"
   ]
  },
  {
   "cell_type": "code",
   "execution_count": 132,
   "metadata": {
    "collapsed": false
   },
   "outputs": [
    {
     "name": "stdout",
     "output_type": "stream",
     "text": [
      "log_beta: \n",
      "[[ -3.36098127e+01  -3.79942870e+01  -3.22452833e+01  -3.61835482e+01\n",
      "   -3.56835225e+01  -3.03756252e+01  -2.93246091e+01  -3.37550294e+01\n",
      "   -2.81120700e+01  -2.76888481e+01  -2.68513337e+01  -3.12097682e+01\n",
      "   -3.02650758e+01  -2.96535463e+01  -2.36067774e+01  -2.80519016e+01\n",
      "   -2.24617078e+01  -2.19108516e+01  -2.12634772e+01  -2.08435259e+01\n",
      "   -1.99967858e+01  -2.44702999e+01  -2.34239960e+01  -2.28943808e+01\n",
      "   -1.74570024e+01  -1.66919576e+01  -2.06481334e+01  -2.01011776e+01\n",
      "   -1.45294232e+01  -1.39363331e+01  -1.33854966e+01  -1.27381101e+01\n",
      "   -1.23184078e+01  -1.14721932e+01  -1.58344435e+01  -1.48874535e+01\n",
      "   -1.42490660e+01  -8.41400275e+00  -1.27722531e+01  -1.18284592e+01\n",
      "   -1.12205057e+01  -5.17432547e+00  -9.66000865e+00  -4.27379913e+00\n",
      "   -3.35221978e+00  -7.68866068e+00  -7.07552676e+00  -6.48254323e+00\n",
      "   -5.68315979e+00  -5.00384563e+00]\n",
      " [ -3.46742045e+01  -3.41467383e+01  -3.28050543e+01  -3.09402934e+01\n",
      "   -3.23993856e+01  -3.27340363e+01  -3.02629645e+01  -3.03046219e+01\n",
      "   -3.09275379e+01  -3.00754356e+01  -2.76994978e+01  -2.57357972e+01\n",
      "   -2.52630831e+01  -2.58943002e+01  -2.45298763e+01  -2.46314019e+01\n",
      "   -2.51909911e+01  -2.45754886e+01  -2.40838834e+01  -2.32429242e+01\n",
      "   -2.08690919e+01  -1.89213215e+01  -1.82090812e+01  -1.95431871e+01\n",
      "   -1.97272904e+01  -1.72517667e+01  -1.54504921e+01  -1.66946774e+01\n",
      "   -1.72249360e+01  -1.66656162e+01  -1.60500414e+01  -1.55567634e+01\n",
      "   -1.47124137e+01  -1.23342586e+01  -1.03899454e+01  -9.87588556e+00\n",
      "   -1.05199527e+01  -9.26264600e+00  -7.30036156e+00  -6.82539292e+00\n",
      "   -7.46201573e+00  -6.06246070e+00  -6.39130911e+00  -6.73670016e+00\n",
      "   -4.35333181e+00  -2.57271763e+00  -1.89491514e+00  -1.13692961e+00\n",
      "   -4.46421524e-01  -2.82646868e-01]\n",
      " [ -3.60114555e+01  -3.33526117e+01  -3.44012873e+01  -3.11469189e+01\n",
      "   -3.06818147e+01  -3.32904967e+01  -3.16603448e+01  -2.89490962e+01\n",
      "   -3.05685651e+01  -3.05732221e+01  -2.92189983e+01  -2.60837265e+01\n",
      "   -2.52227998e+01  -2.51675427e+01  -2.59460547e+01  -2.32013825e+01\n",
      "   -2.49750402e+01  -2.45017963e+01  -2.37176939e+01  -2.37416955e+01\n",
      "   -2.23977117e+01  -1.92439351e+01  -1.83839919e+01  -1.79708627e+01\n",
      "   -2.02125688e+01  -1.88635396e+01  -1.55932103e+01  -1.52364218e+01\n",
      "   -1.70745489e+01  -1.64496576e+01  -1.59764661e+01  -1.51923639e+01\n",
      "   -1.52105675e+01  -1.38557277e+01  -1.07217149e+01  -9.88467612e+00\n",
      "   -9.73812002e+00  -1.07824781e+01  -7.64690227e+00  -6.78823390e+00\n",
      "   -6.72499485e+00  -7.53161263e+00  -4.69928922e+00  -7.24000058e+00\n",
      "   -5.86060468e+00  -2.80152659e+00  -2.13181470e+00  -1.42332111e+00\n",
      "   -6.34992804e-01  -8.69586788e-02]\n",
      " [ -3.52438435e+01  -3.32908396e+01  -3.31713041e+01  -3.16900133e+01\n",
      "   -3.11397620e+01  -3.22518135e+01  -3.11602081e+01  -2.93756105e+01\n",
      "   -2.99560199e+01  -2.94337697e+01  -2.78021109e+01  -2.59667244e+01\n",
      "   -2.56145162e+01  -2.51726058e+01  -2.54481555e+01  -2.36420979e+01\n",
      "   -2.43794686e+01  -2.38835639e+01  -2.31067424e+01  -2.25976980e+01\n",
      "   -2.09527171e+01  -1.90680099e+01  -1.89139827e+01  -1.83891152e+01\n",
      "   -1.91075919e+01  -1.76549275e+01  -1.61408053e+01  -1.56807737e+01\n",
      "   -1.64707074e+01  -1.58540809e+01  -1.53581439e+01  -1.45810580e+01\n",
      "   -1.40695560e+01  -1.24368524e+01  -1.05784804e+01  -1.02071381e+01\n",
      "   -9.64316284e+00  -9.36558700e+00  -7.52894383e+00  -7.17596465e+00\n",
      "   -6.72603926e+00  -7.03410346e+00  -5.14338547e+00  -6.08721478e+00\n",
      "   -4.44187489e+00  -2.41550558e+00  -1.74396412e+00  -1.14671534e+00\n",
      "   -6.96720778e-01  -2.29691924e-01]\n",
      " [ -3.53238689e+01  -3.42902432e+01  -3.33095583e+01  -3.45962236e+01\n",
      "   -3.24638421e+01  -2.96091847e+01  -3.09630141e+01  -3.02013030e+01\n",
      "   -2.79947455e+01  -2.71278203e+01  -2.81528191e+01  -2.92293661e+01\n",
      "   -2.87750896e+01  -2.56735264e+01  -2.52419005e+01  -2.45508797e+01\n",
      "   -2.22176257e+01  -2.15700969e+01  -2.11496488e+01  -2.02742877e+01\n",
      "   -2.13378754e+01  -2.23399704e+01  -2.18455613e+01  -1.95429702e+01\n",
      "   -1.69547500e+01  -1.77823192e+01  -1.90681311e+01  -1.66186401e+01\n",
      "   -1.42428748e+01  -1.36922696e+01  -1.30447180e+01  -1.26244467e+01\n",
      "   -1.17494676e+01  -1.27944050e+01  -1.38644861e+01  -1.34043052e+01\n",
      "   -1.04731514e+01  -9.71655968e+00  -1.07925940e+01  -1.03402401e+01\n",
      "   -7.24017111e+00  -6.80850295e+00  -6.36377972e+00  -3.63655156e+00\n",
      "   -4.84566325e+00  -5.96607774e+00  -5.27391946e+00  -4.55134276e+00\n",
      "   -3.94526898e+00  -1.93809005e+00]\n",
      " [ -3.43173521e+01  -3.38000689e+01  -3.24475500e+01  -3.16383996e+01\n",
      "   -3.15426531e+01  -3.15013455e+01  -2.99867925e+01  -2.96886245e+01\n",
      "   -2.91785532e+01  -2.88012984e+01  -2.72893186e+01  -2.63608402e+01\n",
      "   -2.58433402e+01  -2.56032011e+01  -2.42599816e+01  -2.39678173e+01\n",
      "   -2.35404131e+01  -2.30164470e+01  -2.23304093e+01  -2.19680425e+01\n",
      "   -2.04513277e+01  -1.95135706e+01  -1.88942252e+01  -1.87773201e+01\n",
      "   -1.84354373e+01  -1.69047427e+01  -1.61274009e+01  -1.60127258e+01\n",
      "   -1.56168138e+01  -1.50150272e+01  -1.44910264e+01  -1.38045120e+01\n",
      "   -1.34393801e+01  -1.19275909e+01  -1.10083146e+01  -1.04681697e+01\n",
      "   -1.01903834e+01  -8.85271612e+00  -7.92490861e+00  -7.40552497e+00\n",
      "   -7.16380653e+00  -5.81363090e+00  -5.55453651e+00  -5.47815741e+00\n",
      "   -3.97738691e+00  -3.13182461e+00  -2.43950820e+00  -1.71305068e+00\n",
      "   -1.05862937e+00  -6.09761162e-01]\n",
      " [ -3.84376759e+01  -3.28481200e+01  -3.72931238e+01  -3.18739976e+01\n",
      "   -3.01728988e+01  -3.44485262e+01  -3.42546157e+01  -2.83168160e+01\n",
      "   -3.19401263e+01  -3.18343026e+01  -3.17983542e+01  -2.69343248e+01\n",
      "   -2.57206796e+01  -2.44130404e+01  -2.85518034e+01  -2.25965384e+01\n",
      "   -2.63067182e+01  -2.57873434e+01  -2.50896835e+01  -2.49889688e+01\n",
      "   -2.49284483e+01  -2.02029926e+01  -1.90839494e+01  -1.74261645e+01\n",
      "   -2.16227516e+01  -2.17410421e+01  -1.62837799e+01  -1.46398553e+01\n",
      "   -1.83883867e+01  -1.77813470e+01  -1.72620554e+01  -1.65646693e+01\n",
      "   -1.64614171e+01  -1.64155584e+01  -1.15493049e+01  -1.03797924e+01\n",
      "   -9.08009118e+00  -1.33608379e+01  -8.49665809e+00  -7.28408278e+00\n",
      "   -5.98106848e+00  -1.01636000e+01  -4.15904699e+00  -8.39171938e+00\n",
      "   -8.27959644e+00  -3.29891517e+00  -2.69159930e+00  -2.14729760e+00\n",
      "   -1.30040942e+00  -1.32488539e-02]]\n",
      "log_beta_post: \n",
      "[[-33.60307799 -32.99044136 -32.23854854 -31.17970253 -30.6796769\n",
      "  -30.36889051 -29.31787439 -28.75118375 -28.10533532 -27.68211337\n",
      "  -26.84459902 -26.20592259 -25.26123022 -24.64970069 -23.60004274\n",
      "  -23.04805594 -22.45497311 -21.90411686 -21.25674248 -20.83679119\n",
      "  -19.99005105 -19.46645424 -18.42015041 -17.89053516 -17.45026767\n",
      "  -16.68522289 -15.6442878  -15.09733197 -14.52268852 -13.92959836\n",
      "  -13.37876184 -12.73137542 -12.31167312 -11.46545852 -10.83059786\n",
      "   -9.88360787  -9.24522034  -8.40726804  -7.76840745  -6.82461357\n",
      "   -6.2166601   -5.16759076  -4.65616303  -4.26706442  -3.34548507\n",
      "   -2.68481505  -2.07168114  -1.4786976   -0.67931417   0.        ]\n",
      " [-33.27265059 -33.86409144 -31.40350037 -30.65764651 -32.11673875\n",
      "  -31.33248234 -28.86141057 -30.02197502 -29.52598397 -28.67388168\n",
      "  -26.29794385 -25.45315037 -24.98043624 -25.61165334 -23.1283224\n",
      "  -24.34875507 -23.78943715 -23.17393471 -22.68232948 -21.84137032\n",
      "  -19.46753804 -18.63867464 -17.92643432 -19.26054023 -18.32573647\n",
      "  -15.85021283 -15.16784521 -16.41203048 -15.82338213 -15.26406232\n",
      "  -14.64848753 -14.15520953 -13.31085977 -10.93270471 -10.10729855\n",
      "   -9.59323869 -10.23730579  -7.86109209  -7.01771469  -6.54274605\n",
      "   -7.17936887  -4.6609068   -6.10866224  -5.33514625  -2.95177791\n",
      "   -2.29007076  -1.61226828  -0.85428274  -0.16377466   0.        ]\n",
      " [-33.52596901 -33.26565306 -31.91580076 -31.05996018 -30.59485604\n",
      "  -30.80501014 -29.17485833 -28.86213754 -28.08307863 -28.08773557\n",
      "  -26.73351181 -25.99676778 -25.13584116 -25.08058401 -23.46056822\n",
      "  -23.11442383 -22.48955364 -22.01630983 -21.23220741 -21.25620899\n",
      "  -19.91222517 -19.15697641 -18.29703324 -17.88390403 -17.72708227\n",
      "  -16.37805305 -15.50625165 -15.14946309 -14.58906241 -13.9641711\n",
      "  -13.49097963 -12.70687743 -12.72508096 -11.37024117 -10.6347562\n",
      "   -9.79771744  -9.65116134  -8.29699164  -7.55994359  -6.70127523\n",
      "   -6.63803618  -5.04612611  -4.61233054  -4.75451407  -3.37511817\n",
      "   -2.71456791  -2.04485603  -1.33636243  -0.54803413   0.        ]\n",
      " [-33.66017847 -33.06114766 -31.58763908 -31.46032133 -30.9100701\n",
      "  -30.66814846 -29.57654312 -29.14591856 -28.3723549  -27.85010473\n",
      "  -26.21844589 -25.73703243 -25.38482423 -24.94291391 -23.86449056\n",
      "  -23.41240602 -22.79580366 -22.29989896 -21.52307738 -21.01403305\n",
      "  -19.36905214 -18.83831796 -18.68429079 -18.15942327 -17.52392688\n",
      "  -16.07126249 -15.91111333 -15.45108175 -14.88704239 -14.27041588\n",
      "  -13.77447889 -12.99739296 -12.48589099 -10.85318739 -10.34878843\n",
      "   -9.97744621  -9.41347091  -7.78192201  -7.29925191  -6.94627273\n",
      "   -6.49634733  -5.45043847  -4.91369355  -4.50354979  -2.8582099\n",
      "   -2.18581365  -1.5142722   -0.91702342  -0.46702885   0.        ]\n",
      " [-35.16840887 -32.3521532  -33.1540983  -32.65813353 -30.52575204\n",
      "  -29.4537247  -30.80755412 -28.26321297 -27.8392855  -26.9723603\n",
      "  -27.99735908 -27.29127604 -26.83699954 -23.73543638 -25.08644046\n",
      "  -22.61278965 -22.06216569 -21.41463687 -20.99418876 -20.11882771\n",
      "  -21.18241545 -20.40188032 -19.9074713  -17.60488013 -16.79928999\n",
      "  -17.62685922 -17.13004101 -14.68055009 -14.08741477 -13.53680956\n",
      "  -12.88925796 -12.46898668 -11.59400755 -12.63894498 -11.92639607\n",
      "  -11.46621515  -8.53506133  -9.56109968  -8.85450397  -8.40215009\n",
      "   -5.30208107  -6.65304295  -4.42568968  -3.48109156  -4.69020325\n",
      "   -4.02798769  -3.33582942  -2.61325272  -2.00717894   0.        ]\n",
      " [-33.5332279  -33.19030777 -31.66342583 -31.02863846 -30.93289197\n",
      "  -30.71722134 -29.20266833 -29.07886334 -28.394429   -28.01717423\n",
      "  -26.50519437 -25.75107902 -25.23357903 -24.99343999 -23.47585738\n",
      "  -23.3580561  -22.75628892 -22.23232284 -21.54628511 -21.18391828\n",
      "  -19.66720349 -18.90380942 -18.28446405 -18.1675589  -17.65131312\n",
      "  -16.12061848 -15.51763974 -15.40296461 -14.83268964 -14.23090295\n",
      "  -13.70690218 -13.02038775 -12.65525586 -11.14346665 -10.3985534\n",
      "   -9.85840852  -9.58062224  -8.06859191  -7.31514745  -6.79576381\n",
      "   -6.55404536  -5.02950669  -4.94477535  -4.6940332   -3.19326271\n",
      "   -2.52206345  -1.82974704  -1.10328951  -0.44886821   0.        ]\n",
      " [-34.10721456 -32.83487111 -32.96266242 -31.86074876 -30.1596499\n",
      "  -30.11806488 -29.92415431 -28.30356715 -27.60966496 -27.50384124\n",
      "  -27.46789288 -26.9210759  -25.70743076 -24.39979152 -24.22134203\n",
      "  -22.58328955 -21.97625682 -21.45688209 -20.75922214 -20.65850745\n",
      "  -20.59798698 -20.18974376 -19.0707005  -17.41291566 -17.29229029\n",
      "  -17.41058076 -16.27053106 -14.62660643 -14.05792531 -13.45088561\n",
      "  -12.93159408 -12.23420792 -12.13095579 -12.08509705 -11.53605608\n",
      "  -10.36654353  -9.06684233  -9.03037658  -8.48340923  -7.27083393\n",
      "   -5.96781962  -5.83313867  -4.14579814  -4.06125803  -3.94913509\n",
      "   -3.28566632  -2.67835045  -2.13404875  -1.28716057   0.        ]]\n"
     ]
    }
   ],
   "source": [
    "# An implementation of the forward backward algorithm\n",
    "# Backward Pass\n",
    "log_beta  = np.zeros((S, T))\n",
    "log_beta_post = np.zeros((S, T))\n",
    "\n",
    "for k in range(T-1,-1,-1):\n",
    "    if k==T-1:\n",
    "        log_beta_post[:,k] = np.zeros(S)\n",
    "    else:\n",
    "        log_beta_post[:,k] = postdict(A, log_beta[:,k+1])\n",
    "    \n",
    "    log_beta[:,k] = update(y[k], logB, log_beta_post[:,k])\n",
    "    \n",
    "print (\"log_beta: \")\n",
    "print (log_beta)\n",
    "print (\"log_beta_post: \")\n",
    "print (log_beta_post)  \n",
    "    "
   ]
  },
  {
   "cell_type": "code",
   "execution_count": 133,
   "metadata": {
    "collapsed": false
   },
   "outputs": [
    {
     "name": "stdout",
     "output_type": "stream",
     "text": [
      "[[-34.70765629 -34.70765629 -34.70765629 -34.70765629 -34.70765629\n",
      "  -34.70765629 -34.70765629 -34.70765629 -34.70765629 -34.70765629\n",
      "  -34.70765629 -34.70765629 -34.70765629 -34.70765629 -34.70765629\n",
      "  -34.70765629 -34.70765629 -34.70765629 -34.70765629 -34.70765629\n",
      "  -34.70765629 -34.70765629 -34.70765629 -34.70765629 -34.70765629\n",
      "  -34.70765629 -34.70765629 -34.70765629 -34.70765629 -34.70765629\n",
      "  -34.70765629 -34.70765629 -34.70765629 -34.70765629 -34.70765629\n",
      "  -34.70765629 -34.70765629 -34.70765629 -34.70765629 -34.70765629\n",
      "  -34.70765629 -34.70765629 -34.70765629 -34.70765629 -34.70765629\n",
      "  -34.70765629 -34.70765629 -34.70765629 -34.70765629 -34.70765629]]\n"
     ]
    }
   ],
   "source": [
    "import numpy as np\n",
    "\n",
    "def log_sum_exp_naive(l):\n",
    "    return np.log(np.sum(np.exp(l)))\n",
    "\n",
    "def log_sum_exp(l, axis=0):\n",
    "    l_star = np.max(l, axis=axis, keepdims=True)\n",
    "    return l_star + np.log(np.sum(np.exp(l - l_star),axis=axis,keepdims=True)) \n",
    "\n",
    "\n",
    "log_gamma = log_alpha + log_beta_post\n",
    "print(log_sum_exp(log_gamma))"
   ]
  },
  {
   "cell_type": "code",
   "execution_count": 134,
   "metadata": {
    "collapsed": false
   },
   "outputs": [
    {
     "data": {
      "image/png": "[encoded data removed]",
      "text/plain": [
       "<matplotlib.figure.Figure at 0x110eb8b00>"
      ]
     },
     "metadata": {},
     "output_type": "display_data"
    }
   ],
   "source": [
    "# Correction Smoother\n",
    "# For numerical stability, we calculate everything in the log domain\n",
    "log_gamma_corr = np.zeros_like(log_alpha)\n",
    "log_gamma_corr[:,T-1] = log_alpha[:,T-1]\n",
    "\n",
    "for k in range(T-2,-1,-1):\n",
    "    log_old_pairwise_marginal = log_alpha[:,k].reshape(1,S) + logA \n",
    "    log_old_marginal = predict(A, log_alpha[:,k])\n",
    "    log_new_pairwise_marginal = log_old_pairwise_marginal + log_gamma_corr[:,k+1].reshape(S,1) - log_old_marginal.reshape(S,1)\n",
    "    log_gamma_corr[:,k] = log_sum_exp(log_new_pairwise_marginal, axis=0).reshape(S)\n",
    "    \n",
    "\n",
    "# Verify that result coincide\n",
    "\n",
    "gam = normalize_exp(log_gamma, axis=0)\n",
    "gam_corr = normalize_exp(log_gamma_corr, axis=0)\n",
    "\n",
    "\n",
    "\n",
    "\n",
    "\n",
    "plt.figure(figsize=(20,10))\n",
    "plt.subplot(4,1,1)\n",
    "plt.imshow(log_alpha, interpolation='nearest')\n",
    "plt.subplot(4,1,2)\n",
    "plt.imshow(log_beta, interpolation='nearest')\n",
    "plt.subplot(4,1,3)\n",
    "plt.imshow(gam, interpolation='nearest')\n",
    "plt.subplot(4,1,4)\n",
    "plt.imshow(gam_corr, interpolation='nearest')\n",
    "\n",
    "plt.show()"
   ]
  },
  {
   "cell_type": "code",
   "execution_count": null,
   "metadata": {
    "collapsed": true
   },
   "outputs": [],
   "source": []
  }
 ],
 "metadata": {
  "kernelspec": {
   "display_name": "Python 3",
   "language": "python",
   "name": "python3"
  },
  "language_info": {
   "codemirror_mode": {
    "name": "ipython",
    "version": 3
   },
   "file_extension": ".py",
   "mimetype": "text/x-python",
   "name": "python",
   "nbconvert_exporter": "python",
   "pygments_lexer": "ipython3",
   "version": "3.5.0"
  }
 },
 "nbformat": 4,
 "nbformat_minor": 0
}
